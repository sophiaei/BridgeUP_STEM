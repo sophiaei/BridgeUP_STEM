{
 "cells": [
  {
   "cell_type": "raw",
   "metadata": {},
   "source": [
    "# Unit 3 Final Projects: Calculating evolutionary distance\n",
    "\n",
    "In this notebook you will compare the sequence of a particular gene from 3 different species to find out which two are most closely related. \n",
    "\n",
    "You will need to do the following:\n",
    "1. Open and read in your files\n",
    "2. Decide which sequences to compare (DNA, RNA, or protein)\n",
    "3. Write code that prints out the percent similarity of each pair of sequences"
   ]
  },
  {
   "cell_type": "code",
   "execution_count": 17,
   "metadata": {},
   "outputs": [],
   "source": [
    "\n",
    "turtle = open(\"2a_CYTB_DNA.txt\").read()\n",
    "chicken = open(\"2b_CYTB_DNA.txt\").read()\n",
    "gator = open(\"2c_CYTB_DNA.txt\").read()"
   ]
  },
  {
   "cell_type": "code",
   "execution_count": 49,
   "metadata": {},
   "outputs": [
    {
     "name": "stdout",
     "output_type": "stream",
     "text": [
      "270\n",
      "75.84973166368515\n"
     ]
    }
   ],
   "source": [
    "tur_chi_diff = 0\n",
    "for c, i in enumerate(turtle):\n",
    "    if i != chicken[c]:\n",
    "        tur_chi_diff += 1\n",
    "print(tur_chi_diff)\n",
    "tur_chi_per = tur_chi_diff*100/ 1118\n",
    "print(100-tur_chi_per)"
   ]
  },
  {
   "cell_type": "code",
   "execution_count": 50,
   "metadata": {
    "scrolled": true
   },
   "outputs": [
    {
     "name": "stdout",
     "output_type": "stream",
     "text": [
      "355\n"
     ]
    }
   ],
   "source": [
    "gat_chi_diff = 0\n",
    "for c, i in enumerate(chicken):\n",
    "    if i != gator[c]:\n",
    "        gat_chi_diff += 1\n",
    "print(gat_chi_diff)\n",
    "gat_chi_per = gat_chi_diff*100/ 1118\n",
    "similarities = 100-gat_chi_per"
   ]
  },
  {
   "cell_type": "code",
   "execution_count": 51,
   "metadata": {},
   "outputs": [
    {
     "name": "stdout",
     "output_type": "stream",
     "text": [
      "326\n"
     ]
    }
   ],
   "source": [
    "tur_gat_diff = 0\n",
    "for c, i in enumerate(turtle):\n",
    "    if i != gator[c]:\n",
    "        tur_gat_diff += 1\n",
    "print(tur_gat_diff)\n",
    "tur_gat_per = tur_gat_diff*100/ 1118\n",
    "similarities2 =100-tur_gat_per"
   ]
  },
  {
   "cell_type": "code",
   "execution_count": 52,
   "metadata": {},
   "outputs": [
    {
     "name": "stdout",
     "output_type": "stream",
     "text": [
      "326\n"
     ]
    }
   ],
   "source": [
    "tur_gat_diff = 0\n",
    "for c, i in enumerate(turtle):\n",
    "    if i != gator[c]:\n",
    "        tur_gat_diff += 1\n",
    "print(tur_gat_diff)\n",
    "tur_gat_per = tur_gat_diff*100/1118\n",
    "similarities3 = 100- tur_gat_per"
   ]
  },
  {
   "cell_type": "markdown",
   "metadata": {},
   "source": [
    "## Bonus Challenge\n",
    "\n",
    "Visualize your results! Choose a graph type that you think will communicate your conclusions effectively and create it using matplotlib:"
   ]
  },
  {
   "cell_type": "code",
   "execution_count": 53,
   "metadata": {},
   "outputs": [
    {
     "data": {
      "image/png": "[encoded data removed]",
      "text/plain": [
       "<Figure size 432x288 with 1 Axes>"
      ]
     },
     "metadata": {
      "needs_background": "light"
     },
     "output_type": "display_data"
    }
   ],
   "source": [
    "import matplotlib.pyplot as plt\n",
    "\n",
    "plt.bar([1, 2, 3],[similarities, similarities2, similarities3], \n",
    "        color = [\"lavender\", \"pink\", \"purple\"])\n",
    "plt.title(\"Percentage Similarities Between Turtle, Crocodile, and Chicken DNA\")\n",
    "plt.xticks([1, 2, 3], [\"Turtle and Chicken\", \"Turtle and Crocodile\", \"Crocodile and Chicken\"])\n",
    "plt.savefig(\"DNAgraph\")"
   ]
  },
  {
   "cell_type": "markdown",
   "metadata": {},
   "source": [
    "## Bonus Challenge 2\n",
    "If you finish your project and want to try a challenge, come up with a hypothesis about which of the following species are most closely related to humans (carp, chicken, chimp, dog, eel, elephant, frog, gorilla, macaque monkey, mouse, orangutan, pig). Write out a ranked list with the species you think is most related to humans at the top.\n",
    "\n",
    "Then calculate the percent difference between the hemoglobin amino acid sequences of humans and each species to find out how close you came to the right ranking!"
   ]
  },
  {
   "cell_type": "code",
   "execution_count": null,
   "metadata": {
    "collapsed": true
   },
   "outputs": [],
   "source": []
  }
 ],
 "metadata": {
  "kernelspec": {
   "display_name": "Python 3",
   "language": "python",
   "name": "python3"
  },
  "language_info": {
   "codemirror_mode": {
    "name": "ipython",
    "version": 3
   },
   "file_extension": ".py",
   "mimetype": "text/x-python",
   "name": "python",
   "nbconvert_exporter": "python",
   "pygments_lexer": "ipython3",
   "version": "3.7.3"
  }
 },
 "nbformat": 4,
 "nbformat_minor": 2
}
