{
 "cells": [
  {
   "cell_type": "code",
   "execution_count": 2,
   "metadata": {},
   "outputs": [],
   "source": [
    "#DATA FOR BRAIN 3\n",
    "#femur length = 315\n",
    "#brain volume = 56.31\n",
    "#cerebrum size = 36.85"
   ]
  },
  {
   "cell_type": "code",
   "execution_count": 3,
   "metadata": {},
   "outputs": [],
   "source": [
    "#import libraries\n",
    "import numpy as np\n",
    "import pandas as pd"
   ]
  },
  {
   "cell_type": "code",
   "execution_count": 4,
   "metadata": {},
   "outputs": [
    {
     "data": {
      "text/html": [
       "<div>\n",
       "<style scoped>\n",
       "    .dataframe tbody tr th:only-of-type {\n",
       "        vertical-align: middle;\n",
       "    }\n",
       "\n",
       "    .dataframe tbody tr th {\n",
       "        vertical-align: top;\n",
       "    }\n",
       "\n",
       "    .dataframe thead th {\n",
       "        text-align: right;\n",
       "    }\n",
       "</style>\n",
       "<table border=\"1\" class=\"dataframe\">\n",
       "  <thead>\n",
       "    <tr style=\"text-align: right;\">\n",
       "      <th></th>\n",
       "      <th>Species ID</th>\n",
       "      <th>Bird vs Dino</th>\n",
       "      <th>Body Mass (kg)</th>\n",
       "      <th>Olfactory bulbs (cm3)</th>\n",
       "      <th>Cerebrum (cm3)</th>\n",
       "      <th>Optic Lobes (cm3)</th>\n",
       "      <th>Cerebellum (cm3)</th>\n",
       "      <th>Brain Stem (cm3)</th>\n",
       "      <th>Brain Volume (cm3)</th>\n",
       "    </tr>\n",
       "  </thead>\n",
       "  <tbody>\n",
       "    <tr>\n",
       "      <th>0</th>\n",
       "      <td>1</td>\n",
       "      <td>B</td>\n",
       "      <td>0.02</td>\n",
       "      <td>0.009</td>\n",
       "      <td>1.53</td>\n",
       "      <td>0.20</td>\n",
       "      <td>0.16</td>\n",
       "      <td>0.06</td>\n",
       "      <td>1.96</td>\n",
       "    </tr>\n",
       "    <tr>\n",
       "      <th>1</th>\n",
       "      <td>2</td>\n",
       "      <td>B</td>\n",
       "      <td>1.26</td>\n",
       "      <td>0.006</td>\n",
       "      <td>16.81</td>\n",
       "      <td>2.84</td>\n",
       "      <td>1.70</td>\n",
       "      <td>0.68</td>\n",
       "      <td>22.04</td>\n",
       "    </tr>\n",
       "    <tr>\n",
       "      <th>2</th>\n",
       "      <td>3</td>\n",
       "      <td>B</td>\n",
       "      <td>2.18</td>\n",
       "      <td>0.026</td>\n",
       "      <td>11.08</td>\n",
       "      <td>1.95</td>\n",
       "      <td>0.89</td>\n",
       "      <td>1.15</td>\n",
       "      <td>15.10</td>\n",
       "    </tr>\n",
       "    <tr>\n",
       "      <th>3</th>\n",
       "      <td>4</td>\n",
       "      <td>D</td>\n",
       "      <td>0.25</td>\n",
       "      <td>0.050</td>\n",
       "      <td>0.41</td>\n",
       "      <td>0.16</td>\n",
       "      <td>0.09</td>\n",
       "      <td>0.12</td>\n",
       "      <td>0.83</td>\n",
       "    </tr>\n",
       "    <tr>\n",
       "      <th>4</th>\n",
       "      <td>5</td>\n",
       "      <td>B</td>\n",
       "      <td>0.01</td>\n",
       "      <td>0.003</td>\n",
       "      <td>1.57</td>\n",
       "      <td>0.20</td>\n",
       "      <td>0.34</td>\n",
       "      <td>0.08</td>\n",
       "      <td>2.19</td>\n",
       "    </tr>\n",
       "  </tbody>\n",
       "</table>\n",
       "</div>"
      ],
      "text/plain": [
       "   Species ID Bird vs Dino  Body Mass (kg)  Olfactory bulbs (cm3)  \\\n",
       "0           1            B            0.02                  0.009   \n",
       "1           2            B            1.26                  0.006   \n",
       "2           3            B            2.18                  0.026   \n",
       "3           4            D            0.25                  0.050   \n",
       "4           5            B            0.01                  0.003   \n",
       "\n",
       "   Cerebrum (cm3)  Optic Lobes (cm3)  Cerebellum (cm3)  Brain Stem (cm3)  \\\n",
       "0            1.53               0.20              0.16              0.06   \n",
       "1           16.81               2.84              1.70              0.68   \n",
       "2           11.08               1.95              0.89              1.15   \n",
       "3            0.41               0.16              0.09              0.12   \n",
       "4            1.57               0.20              0.34              0.08   \n",
       "\n",
       "   Brain Volume (cm3)  \n",
       "0                1.96  \n",
       "1               22.04  \n",
       "2               15.10  \n",
       "3                0.83  \n",
       "4                2.19  "
      ]
     },
     "execution_count": 4,
     "metadata": {},
     "output_type": "execute_result"
    }
   ],
   "source": [
    "#explore dataset\n",
    "df = pd.read_csv(\"bird_dino_data.csv\")\n",
    "df.head()"
   ]
  },
  {
   "cell_type": "code",
   "execution_count": 5,
   "metadata": {},
   "outputs": [],
   "source": [
    "#separate df into birds and dinos\n",
    "birds = df.loc[df[\"Bird vs Dino\"] == \"B\"]\n",
    "dinos = df.loc[df[\"Bird vs Dino\"] == \"D\"]"
   ]
  },
  {
   "cell_type": "code",
   "execution_count": 6,
   "metadata": {},
   "outputs": [],
   "source": [
    "#find avg brain/body mass n cerebrum/whole brain for birds vs. non-avian dinos\n",
    "def averageRatio(df, column1, column2):\n",
    "    #find average value\n",
    "    avg_col1 = df[column1].mean()\n",
    "    avg_col2 = df[column2].mean()\n",
    "    #ratio it up\n",
    "    ratio = avg_col1/avg_col2\n",
    "    return ratio"
   ]
  },
  {
   "cell_type": "code",
   "execution_count": 7,
   "metadata": {},
   "outputs": [],
   "source": [
    "#create variables for each ratio()\n",
    "b2bm_bird = averageRatio(birds, \"Brain Volume (cm3)\", \"Body Mass (kg)\")\n",
    "b2bm_dino = averageRatio(dinos, \"Brain Volume (cm3)\", \"Body Mass (kg)\")\n",
    "c2b_bird = averageRatio(birds, \"Cerebrum (cm3)\", \"Brain Volume (cm3)\")\n",
    "c2b_dino = averageRatio(dinos, \"Cerebrum (cm3)\", \"Brain Volume (cm3)\")"
   ]
  },
  {
   "cell_type": "code",
   "execution_count": 43,
   "metadata": {},
   "outputs": [
    {
     "name": "stdout",
     "output_type": "stream",
     "text": [
      "This brain seems to be a dinosaur by the brain to bodymass ratio and a bird by the cerebrum to brain volume ratio.\n"
     ]
    }
   ],
   "source": [
    "def birdOrDino(FL, brainvol, cerebrum):\n",
    "    bodymass = 10**(3.1854*np.log10(FL)-3.184)/1000\n",
    "    b2bm_brain = brainvol/bodymass\n",
    "    c2b_brain = cerebrum/brainvol\n",
    "    \n",
    "    is_bird_by_b2bm = abs(b2bm_brain- b2bm_bird) < abs(b2bm_brain-b2bm_dino)\n",
    "    is_bird_by_c2b = abs(c2b_brain- c2b_bird) < abs(c2b_brain-c2b_dino)\n",
    "    \n",
    "    if is_bird_by_b2bm and is_bird_by_c2b:\n",
    "            print(\"This brain is probably that of a bird.\")\n",
    "    elif not is_bird_by_b2bm and not is_bird_by_c2b:\n",
    "        print(\"This brain is probably that of a dino.\")\n",
    "    elif is_bird_by_b2bm and not is_bird_by_c2b:\n",
    "        print(\"This brain seems to be a bird by the brain to bodymass ratio and a dinosaur by the cerebrum to brain volume ratio.\")\n",
    "    elif not is_bird_by_b2bm and is_bird_by_c2b:\n",
    "        print(\"This brain seems to be a dinosaur by the brain to bodymass ratio and a bird by the cerebrum to brain volume ratio.\")\n"
   ]
  },
  {
   "cell_type": "code",
   "execution_count": 44,
   "metadata": {},
   "outputs": [
    {
     "name": "stdout",
     "output_type": "stream",
     "text": [
      "This brain seems to be a dinosaur by the brain to bodymass ratio and a bird by the cerebrum to brain volume ratio.\n"
     ]
    }
   ],
   "source": [
    "birdOrDino(315, 56.31, 36.85)"
   ]
  },
  {
   "cell_type": "code",
   "execution_count": null,
   "metadata": {},
   "outputs": [],
   "source": [
    "ostrich_c2b = (36.85/56.31)\n",
    "\n",
    "import matplotlib.pyplot as plt\n",
    "\n",
    "plt.bar([1,2,3],[b2bm_bird,ostrich_b2bm ,b2bm_dino], color = [\"dodgerblue\", \"sienna\",\"limegreen\"])\n",
    "plt.xticks([1,2,3],[\"Average Bird\", \"Ostrich\", \"Average Dino\"])\n",
    "plt.title(\"Brain to Body Mass Ratio\")\n",
    "plt.ylabel(\"Body Mass (g)\")\n",
    "plt.show()\n",
    "\n",
    "plt.bar([1,2,3],[c2b_bird,ostrich_c2b ,c2b_dino], color = [\"dodgerblue\", \"sienna\",\"limegreen\"])\n",
    "plt.xticks([1,2,3],[\"Average Bird\", \"Ostrich\", \"Average Dino\"])\n",
    "plt.title(\"Cerebrum to Brain Mass\")\n",
    "plt.ylabel(\"Mass (g)\")\n",
    "plt.show()\n"
   ]
  },
  {
   "cell_type": "code",
   "execution_count": null,
   "metadata": {},
   "outputs": [],
   "source": []
  },
  {
   "cell_type": "code",
   "execution_count": null,
   "metadata": {},
   "outputs": [],
   "source": []
  }
 ],
 "metadata": {
  "kernelspec": {
   "display_name": "Python 3",
   "language": "python",
   "name": "python3"
  },
  "language_info": {
   "codemirror_mode": {
    "name": "ipython",
    "version": 3
   },
   "file_extension": ".py",
   "mimetype": "text/x-python",
   "name": "python",
   "nbconvert_exporter": "python",
   "pygments_lexer": "ipython3",
   "version": "3.7.3"
  }
 },
 "nbformat": 4,
 "nbformat_minor": 2
}
